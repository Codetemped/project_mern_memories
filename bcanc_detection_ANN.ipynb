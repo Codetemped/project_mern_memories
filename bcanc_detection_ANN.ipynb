{
  "nbformat": 4,
  "nbformat_minor": 0,
  "metadata": {
    "colab": {
      "provenance": [],
      "authorship_tag": "ABX9TyMSnox/eaeXGiI+lFQ1Hj/T",
      "include_colab_link": true
    },
    "kernelspec": {
      "name": "python3",
      "display_name": "Python 3"
    },
    "language_info": {
      "name": "python"
    }
  },
  "cells": [
    {
      "cell_type": "markdown",
      "metadata": {
        "id": "view-in-github",
        "colab_type": "text"
      },
      "source": [
        "<a href=\"https://colab.research.google.com/github/Codetemped/project_mern_memories/blob/PART_1_and_2/bcanc_detection_ANN.ipynb\" target=\"_parent\"><img src=\"https://colab.research.google.com/assets/colab-badge.svg\" alt=\"Open In Colab\"/></a>"
      ]
    },
    {
      "cell_type": "code",
      "execution_count": 2,
      "metadata": {
        "colab": {
          "base_uri": "https://localhost:8080/"
        },
        "id": "0k6tPrM3aBca",
        "outputId": "f44ad350-fb6c-454c-f0c3-4310129fc459"
      },
      "outputs": [
        {
          "output_type": "stream",
          "name": "stdout",
          "text": [
            "Hello World\n"
          ]
        }
      ],
      "source": [
        "print(\"Hello World\")"
      ]
    },
    {
      "cell_type": "code",
      "source": [
        "from google.colab import files\n",
        "uploaded=files.upload()\n",
        "\n",
        "for f in uploaded.keys():\n",
        "  print('user uploaded file \"{name}\" with length {length} bytes '.format(\n",
        "      name=f,length=len(uploaded[f])\n",
        "  ))"
      ],
      "metadata": {
        "colab": {
          "base_uri": "https://localhost:8080/",
          "height": 90
        },
        "id": "KV4XQEPXbLpd",
        "outputId": "25ce39cb-2034-4edd-df32-8d1a2b77c89c"
      },
      "execution_count": 4,
      "outputs": [
        {
          "output_type": "display_data",
          "data": {
            "text/plain": [
              "<IPython.core.display.HTML object>"
            ],
            "text/html": [
              "\n",
              "     <input type=\"file\" id=\"files-58a35be6-d0f9-447c-8b8f-4c5450050649\" name=\"files[]\" multiple disabled\n",
              "        style=\"border:none\" />\n",
              "     <output id=\"result-58a35be6-d0f9-447c-8b8f-4c5450050649\">\n",
              "      Upload widget is only available when the cell has been executed in the\n",
              "      current browser session. Please rerun this cell to enable.\n",
              "      </output>\n",
              "      <script>// Copyright 2017 Google LLC\n",
              "//\n",
              "// Licensed under the Apache License, Version 2.0 (the \"License\");\n",
              "// you may not use this file except in compliance with the License.\n",
              "// You may obtain a copy of the License at\n",
              "//\n",
              "//      http://www.apache.org/licenses/LICENSE-2.0\n",
              "//\n",
              "// Unless required by applicable law or agreed to in writing, software\n",
              "// distributed under the License is distributed on an \"AS IS\" BASIS,\n",
              "// WITHOUT WARRANTIES OR CONDITIONS OF ANY KIND, either express or implied.\n",
              "// See the License for the specific language governing permissions and\n",
              "// limitations under the License.\n",
              "\n",
              "/**\n",
              " * @fileoverview Helpers for google.colab Python module.\n",
              " */\n",
              "(function(scope) {\n",
              "function span(text, styleAttributes = {}) {\n",
              "  const element = document.createElement('span');\n",
              "  element.textContent = text;\n",
              "  for (const key of Object.keys(styleAttributes)) {\n",
              "    element.style[key] = styleAttributes[key];\n",
              "  }\n",
              "  return element;\n",
              "}\n",
              "\n",
              "// Max number of bytes which will be uploaded at a time.\n",
              "const MAX_PAYLOAD_SIZE = 100 * 1024;\n",
              "\n",
              "function _uploadFiles(inputId, outputId) {\n",
              "  const steps = uploadFilesStep(inputId, outputId);\n",
              "  const outputElement = document.getElementById(outputId);\n",
              "  // Cache steps on the outputElement to make it available for the next call\n",
              "  // to uploadFilesContinue from Python.\n",
              "  outputElement.steps = steps;\n",
              "\n",
              "  return _uploadFilesContinue(outputId);\n",
              "}\n",
              "\n",
              "// This is roughly an async generator (not supported in the browser yet),\n",
              "// where there are multiple asynchronous steps and the Python side is going\n",
              "// to poll for completion of each step.\n",
              "// This uses a Promise to block the python side on completion of each step,\n",
              "// then passes the result of the previous step as the input to the next step.\n",
              "function _uploadFilesContinue(outputId) {\n",
              "  const outputElement = document.getElementById(outputId);\n",
              "  const steps = outputElement.steps;\n",
              "\n",
              "  const next = steps.next(outputElement.lastPromiseValue);\n",
              "  return Promise.resolve(next.value.promise).then((value) => {\n",
              "    // Cache the last promise value to make it available to the next\n",
              "    // step of the generator.\n",
              "    outputElement.lastPromiseValue = value;\n",
              "    return next.value.response;\n",
              "  });\n",
              "}\n",
              "\n",
              "/**\n",
              " * Generator function which is called between each async step of the upload\n",
              " * process.\n",
              " * @param {string} inputId Element ID of the input file picker element.\n",
              " * @param {string} outputId Element ID of the output display.\n",
              " * @return {!Iterable<!Object>} Iterable of next steps.\n",
              " */\n",
              "function* uploadFilesStep(inputId, outputId) {\n",
              "  const inputElement = document.getElementById(inputId);\n",
              "  inputElement.disabled = false;\n",
              "\n",
              "  const outputElement = document.getElementById(outputId);\n",
              "  outputElement.innerHTML = '';\n",
              "\n",
              "  const pickedPromise = new Promise((resolve) => {\n",
              "    inputElement.addEventListener('change', (e) => {\n",
              "      resolve(e.target.files);\n",
              "    });\n",
              "  });\n",
              "\n",
              "  const cancel = document.createElement('button');\n",
              "  inputElement.parentElement.appendChild(cancel);\n",
              "  cancel.textContent = 'Cancel upload';\n",
              "  const cancelPromise = new Promise((resolve) => {\n",
              "    cancel.onclick = () => {\n",
              "      resolve(null);\n",
              "    };\n",
              "  });\n",
              "\n",
              "  // Wait for the user to pick the files.\n",
              "  const files = yield {\n",
              "    promise: Promise.race([pickedPromise, cancelPromise]),\n",
              "    response: {\n",
              "      action: 'starting',\n",
              "    }\n",
              "  };\n",
              "\n",
              "  cancel.remove();\n",
              "\n",
              "  // Disable the input element since further picks are not allowed.\n",
              "  inputElement.disabled = true;\n",
              "\n",
              "  if (!files) {\n",
              "    return {\n",
              "      response: {\n",
              "        action: 'complete',\n",
              "      }\n",
              "    };\n",
              "  }\n",
              "\n",
              "  for (const file of files) {\n",
              "    const li = document.createElement('li');\n",
              "    li.append(span(file.name, {fontWeight: 'bold'}));\n",
              "    li.append(span(\n",
              "        `(${file.type || 'n/a'}) - ${file.size} bytes, ` +\n",
              "        `last modified: ${\n",
              "            file.lastModifiedDate ? file.lastModifiedDate.toLocaleDateString() :\n",
              "                                    'n/a'} - `));\n",
              "    const percent = span('0% done');\n",
              "    li.appendChild(percent);\n",
              "\n",
              "    outputElement.appendChild(li);\n",
              "\n",
              "    const fileDataPromise = new Promise((resolve) => {\n",
              "      const reader = new FileReader();\n",
              "      reader.onload = (e) => {\n",
              "        resolve(e.target.result);\n",
              "      };\n",
              "      reader.readAsArrayBuffer(file);\n",
              "    });\n",
              "    // Wait for the data to be ready.\n",
              "    let fileData = yield {\n",
              "      promise: fileDataPromise,\n",
              "      response: {\n",
              "        action: 'continue',\n",
              "      }\n",
              "    };\n",
              "\n",
              "    // Use a chunked sending to avoid message size limits. See b/62115660.\n",
              "    let position = 0;\n",
              "    do {\n",
              "      const length = Math.min(fileData.byteLength - position, MAX_PAYLOAD_SIZE);\n",
              "      const chunk = new Uint8Array(fileData, position, length);\n",
              "      position += length;\n",
              "\n",
              "      const base64 = btoa(String.fromCharCode.apply(null, chunk));\n",
              "      yield {\n",
              "        response: {\n",
              "          action: 'append',\n",
              "          file: file.name,\n",
              "          data: base64,\n",
              "        },\n",
              "      };\n",
              "\n",
              "      let percentDone = fileData.byteLength === 0 ?\n",
              "          100 :\n",
              "          Math.round((position / fileData.byteLength) * 100);\n",
              "      percent.textContent = `${percentDone}% done`;\n",
              "\n",
              "    } while (position < fileData.byteLength);\n",
              "  }\n",
              "\n",
              "  // All done.\n",
              "  yield {\n",
              "    response: {\n",
              "      action: 'complete',\n",
              "    }\n",
              "  };\n",
              "}\n",
              "\n",
              "scope.google = scope.google || {};\n",
              "scope.google.colab = scope.google.colab || {};\n",
              "scope.google.colab._files = {\n",
              "  _uploadFiles,\n",
              "  _uploadFilesContinue,\n",
              "};\n",
              "})(self);\n",
              "</script> "
            ]
          },
          "metadata": {}
        },
        {
          "output_type": "stream",
          "name": "stdout",
          "text": [
            "Saving data.csv to data (1).csv\n",
            "user uploaded file \"data (1).csv\" with length 125204 bytes \n"
          ]
        }
      ]
    },
    {
      "cell_type": "code",
      "source": [
        "uploaded\n",
        "import pandas as pd\n",
        "import io\n",
        "data=pd.read_csv('data.csv')\n",
        "print(data.head())\n",
        "print('----------------------------------------------------')\n",
        "print(len(data))"
      ],
      "metadata": {
        "colab": {
          "base_uri": "https://localhost:8080/"
        },
        "id": "ITWB5NE5bLt1",
        "outputId": "1e0db6d6-4c66-4165-d147-8357c0677f1d"
      },
      "execution_count": 11,
      "outputs": [
        {
          "output_type": "stream",
          "name": "stdout",
          "text": [
            "         id diagnosis  radius_mean  texture_mean  perimeter_mean  area_mean  \\\n",
            "0    842302         M        17.99         10.38          122.80     1001.0   \n",
            "1    842517         M        20.57         17.77          132.90     1326.0   \n",
            "2  84300903         M        19.69         21.25          130.00     1203.0   \n",
            "3  84348301         M        11.42         20.38           77.58      386.1   \n",
            "4  84358402         M        20.29         14.34          135.10     1297.0   \n",
            "\n",
            "   smoothness_mean  compactness_mean  concavity_mean  concave points_mean  \\\n",
            "0          0.11840           0.27760          0.3001              0.14710   \n",
            "1          0.08474           0.07864          0.0869              0.07017   \n",
            "2          0.10960           0.15990          0.1974              0.12790   \n",
            "3          0.14250           0.28390          0.2414              0.10520   \n",
            "4          0.10030           0.13280          0.1980              0.10430   \n",
            "\n",
            "   ...  texture_worst  perimeter_worst  area_worst  smoothness_worst  \\\n",
            "0  ...          17.33           184.60      2019.0            0.1622   \n",
            "1  ...          23.41           158.80      1956.0            0.1238   \n",
            "2  ...          25.53           152.50      1709.0            0.1444   \n",
            "3  ...          26.50            98.87       567.7            0.2098   \n",
            "4  ...          16.67           152.20      1575.0            0.1374   \n",
            "\n",
            "   compactness_worst  concavity_worst  concave points_worst  symmetry_worst  \\\n",
            "0             0.6656           0.7119                0.2654          0.4601   \n",
            "1             0.1866           0.2416                0.1860          0.2750   \n",
            "2             0.4245           0.4504                0.2430          0.3613   \n",
            "3             0.8663           0.6869                0.2575          0.6638   \n",
            "4             0.2050           0.4000                0.1625          0.2364   \n",
            "\n",
            "   fractal_dimension_worst  Unnamed: 32  \n",
            "0                  0.11890          NaN  \n",
            "1                  0.08902          NaN  \n",
            "2                  0.08758          NaN  \n",
            "3                  0.17300          NaN  \n",
            "4                  0.07678          NaN  \n",
            "\n",
            "[5 rows x 33 columns]\n",
            "----------------------------------------------------\n",
            "569\n"
          ]
        }
      ]
    },
    {
      "cell_type": "code",
      "source": [
        "import seaborn as sns\n",
        "import numpy as np\n",
        "import matplotlib.pyplot as plt"
      ],
      "metadata": {
        "id": "tDin9dqnbLxf"
      },
      "execution_count": 17,
      "outputs": []
    },
    {
      "cell_type": "code",
      "source": [
        "data.dtypes"
      ],
      "metadata": {
        "colab": {
          "base_uri": "https://localhost:8080/"
        },
        "id": "OxfPaZfObL2_",
        "outputId": "e66bd487-bad8-4760-fccb-9091fdfcaec2"
      },
      "execution_count": 13,
      "outputs": [
        {
          "output_type": "execute_result",
          "data": {
            "text/plain": [
              "id                           int64\n",
              "diagnosis                   object\n",
              "radius_mean                float64\n",
              "texture_mean               float64\n",
              "perimeter_mean             float64\n",
              "area_mean                  float64\n",
              "smoothness_mean            float64\n",
              "compactness_mean           float64\n",
              "concavity_mean             float64\n",
              "concave points_mean        float64\n",
              "symmetry_mean              float64\n",
              "fractal_dimension_mean     float64\n",
              "radius_se                  float64\n",
              "texture_se                 float64\n",
              "perimeter_se               float64\n",
              "area_se                    float64\n",
              "smoothness_se              float64\n",
              "compactness_se             float64\n",
              "concavity_se               float64\n",
              "concave points_se          float64\n",
              "symmetry_se                float64\n",
              "fractal_dimension_se       float64\n",
              "radius_worst               float64\n",
              "texture_worst              float64\n",
              "perimeter_worst            float64\n",
              "area_worst                 float64\n",
              "smoothness_worst           float64\n",
              "compactness_worst          float64\n",
              "concavity_worst            float64\n",
              "concave points_worst       float64\n",
              "symmetry_worst             float64\n",
              "fractal_dimension_worst    float64\n",
              "Unnamed: 32                float64\n",
              "dtype: object"
            ]
          },
          "metadata": {},
          "execution_count": 13
        }
      ]
    },
    {
      "cell_type": "code",
      "source": [
        "del data['Unnamed: 32']"
      ],
      "metadata": {
        "id": "uKXjx3OEbL4D"
      },
      "execution_count": 20,
      "outputs": []
    },
    {
      "cell_type": "code",
      "source": [
        "x=data.iloc[:,2:].values\n",
        "y=data.iloc[:,1].values\n",
        "\n",
        "#incoding categorical data\n",
        "\n",
        "from sklearn.preprocessing import LabelEncoder\n",
        "labelEncoder_x_1=LabelEncoder()\n",
        "y=labelEncoder_x_1.fit_transform(y)\n",
        "\n",
        "#splitting the dataset into Training asd test set\n",
        "\n",
        "from sklearn.model_selection import train_test_split\n",
        "\n",
        "x_train,x_test,y_train,y_test=train_test_split(x,y,test_size=0.1,random_state=0)\n",
        "\n",
        "\n",
        "#feature Scaling\n",
        "\n",
        "from sklearn.preprocessing import StandardScaler\n",
        "sc=StandardScaler()\n",
        "x_train=sc.fit_transform(x_train)\n",
        "x_test=sc.transform(x_test)\n"
      ],
      "metadata": {
        "id": "aJVGfBSDeTst"
      },
      "execution_count": 22,
      "outputs": []
    },
    {
      "cell_type": "code",
      "source": [
        "print(x_train)\n",
        "print(y_train)\n"
      ],
      "metadata": {
        "colab": {
          "base_uri": "https://localhost:8080/"
        },
        "id": "GMNbxyz1eT_W",
        "outputId": "dddefa53-c013-491e-d5f3-9e0435abec41"
      },
      "execution_count": 23,
      "outputs": [
        {
          "output_type": "stream",
          "name": "stdout",
          "text": [
            "[[-0.52787029  2.49821982 -0.59939466 ... -1.74713139 -0.79044533\n",
            "  -0.91054389]\n",
            " [-0.55333608  0.29431013 -0.60759343 ... -0.62275667 -0.33646358\n",
            "  -0.83551633]\n",
            " [ 2.15452653  0.40392257  2.26525805 ...  1.03846122 -0.11504791\n",
            "   0.26488788]\n",
            " ...\n",
            " [-1.3297598  -0.21876938 -1.32088704 ... -0.98271999 -0.718764\n",
            "  -0.13637062]\n",
            " [-1.24940108 -0.24209117 -1.2835826  ... -1.74713139 -1.58690456\n",
            "  -1.01280367]\n",
            " [-0.74291476  1.08958336 -0.71827692 ... -0.2865488  -1.26354211\n",
            "   0.19486216]]\n",
            "[0 0 1 1 1 0 0 1 0 1 1 1 0 0 1 0 1 1 0 0 0 0 0 1 1 1 0 1 0 0 0 1 1 0 1 0 1\n",
            " 0 0 1 0 0 0 0 0 0 0 1 0 1 0 1 1 0 1 1 0 0 0 0 0 0 0 0 0 1 0 1 0 0 0 0 0 1\n",
            " 0 0 0 0 0 0 1 1 0 0 0 1 0 0 1 0 1 0 0 0 0 0 0 0 1 0 1 0 1 1 0 0 1 0 1 1 1\n",
            " 0 0 0 0 0 0 1 0 0 0 0 1 1 0 0 1 0 0 0 0 1 0 0 1 1 0 0 1 1 0 0 1 0 0 1 1 1\n",
            " 0 0 0 1 0 0 0 0 0 1 0 1 0 1 0 1 0 1 0 0 0 0 1 0 1 0 0 0 1 0 0 0 1 0 0 1 1\n",
            " 0 1 0 1 0 1 1 1 1 0 1 0 1 0 1 0 1 0 0 1 0 0 0 0 0 0 0 0 0 0 0 0 0 1 0 0 0\n",
            " 1 0 0 0 0 0 0 1 0 1 0 0 1 0 1 1 0 1 1 0 0 1 0 0 0 1 0 0 0 0 0 1 1 0 0 0 0\n",
            " 1 1 0 0 0 0 1 0 0 1 0 0 1 0 1 0 0 0 0 1 1 1 1 0 1 0 1 1 0 0 0 0 0 1 0 0 1\n",
            " 0 0 1 1 0 0 0 1 1 0 0 1 0 0 0 1 0 1 0 1 1 1 1 0 0 0 0 1 1 0 0 0 0 0 1 0 0\n",
            " 1 0 0 1 1 1 1 0 0 1 0 0 0 1 1 0 0 0 0 0 1 1 1 0 1 1 0 0 0 0 0 0 1 0 0 0 0\n",
            " 0 0 1 1 0 1 0 1 1 0 0 0 0 0 1 1 1 0 0 1 1 0 0 1 0 1 1 0 1 0 0 0 0 0 0 0 1\n",
            " 1 0 0 0 1 0 0 0 0 1 0 1 1 1 0 1 0 1 0 1 1 0 0 0 0 0 0 0 0 1 1 1 1 1 0 0 0\n",
            " 0 0 0 0 1 0 1 0 0 0 0 0 1 1 1 0 1 0 0 1 1 1 1 0 1 1 1 0 1 0 1 0 0 1 1 0 1\n",
            " 0 0 0 0 1 0 0 1 0 0 0 1 1 0 0 0 1 0 0 1 0 0 0 0 0 1 1 1 0 0 0]\n"
          ]
        }
      ]
    },
    {
      "cell_type": "code",
      "source": [
        "!pip install keras"
      ],
      "metadata": {
        "colab": {
          "base_uri": "https://localhost:8080/"
        },
        "id": "23ZZODpVeUCg",
        "outputId": "101dbdb9-baae-48a2-b6a7-a08773b01920"
      },
      "execution_count": 24,
      "outputs": [
        {
          "output_type": "stream",
          "name": "stdout",
          "text": [
            "Requirement already satisfied: keras in /usr/local/lib/python3.10/dist-packages (2.12.0)\n"
          ]
        }
      ]
    },
    {
      "cell_type": "code",
      "source": [
        "import keras\n",
        "from keras.models import Sequential\n",
        "from keras.layers import Dense\n"
      ],
      "metadata": {
        "id": "lOnn-MDReUE2"
      },
      "execution_count": 25,
      "outputs": []
    },
    {
      "cell_type": "code",
      "source": [
        "#adding the input and first hiden layers\n",
        "\n",
        "classifier=Sequential()\n",
        "classifier.add(Dense(16,activation='relu',input_dim=30))\n",
        "#adding second hidden layer\n",
        "classifier.add(Dense(16,activation='relu'))\n",
        "#adding output layer\n",
        "classifier.add(Dense(1,activation='sigmoid'))"
      ],
      "metadata": {
        "id": "CiL8MFE0eUGE"
      },
      "execution_count": 31,
      "outputs": []
    },
    {
      "cell_type": "code",
      "source": [
        "classifier.compile(\n",
        "    optimizer='adam',\n",
        "    loss='binary_crossentropy',\n",
        "    metrics=['accuracy']\n",
        ")"
      ],
      "metadata": {
        "id": "YLv4gJKthOVq"
      },
      "execution_count": 32,
      "outputs": []
    },
    {
      "cell_type": "code",
      "source": [
        "classifier.fit(x_train,y_train,batch_size=100,epochs=150)"
      ],
      "metadata": {
        "colab": {
          "base_uri": "https://localhost:8080/"
        },
        "id": "s_3XpqUTiMsD",
        "outputId": "fc95c1cc-2045-4962-8137-9dd6dc0eea71"
      },
      "execution_count": 33,
      "outputs": [
        {
          "output_type": "stream",
          "name": "stdout",
          "text": [
            "Epoch 1/150\n",
            "6/6 [==============================] - 2s 5ms/step - loss: 0.6468 - accuracy: 0.7129\n",
            "Epoch 2/150\n",
            "6/6 [==============================] - 0s 3ms/step - loss: 0.5946 - accuracy: 0.8066\n",
            "Epoch 3/150\n",
            "6/6 [==============================] - 0s 4ms/step - loss: 0.5479 - accuracy: 0.8574\n",
            "Epoch 4/150\n",
            "6/6 [==============================] - 0s 4ms/step - loss: 0.5044 - accuracy: 0.8828\n",
            "Epoch 5/150\n",
            "6/6 [==============================] - 0s 3ms/step - loss: 0.4618 - accuracy: 0.8926\n",
            "Epoch 6/150\n",
            "6/6 [==============================] - 0s 3ms/step - loss: 0.4213 - accuracy: 0.9062\n",
            "Epoch 7/150\n",
            "6/6 [==============================] - 0s 3ms/step - loss: 0.3832 - accuracy: 0.9180\n",
            "Epoch 8/150\n",
            "6/6 [==============================] - 0s 3ms/step - loss: 0.3480 - accuracy: 0.9199\n",
            "Epoch 9/150\n",
            "6/6 [==============================] - 0s 3ms/step - loss: 0.3153 - accuracy: 0.9219\n",
            "Epoch 10/150\n",
            "6/6 [==============================] - 0s 3ms/step - loss: 0.2857 - accuracy: 0.9238\n",
            "Epoch 11/150\n",
            "6/6 [==============================] - 0s 3ms/step - loss: 0.2606 - accuracy: 0.9238\n",
            "Epoch 12/150\n",
            "6/6 [==============================] - 0s 4ms/step - loss: 0.2379 - accuracy: 0.9277\n",
            "Epoch 13/150\n",
            "6/6 [==============================] - 0s 4ms/step - loss: 0.2187 - accuracy: 0.9277\n",
            "Epoch 14/150\n",
            "6/6 [==============================] - 0s 4ms/step - loss: 0.2025 - accuracy: 0.9316\n",
            "Epoch 15/150\n",
            "6/6 [==============================] - 0s 3ms/step - loss: 0.1892 - accuracy: 0.9375\n",
            "Epoch 16/150\n",
            "6/6 [==============================] - 0s 3ms/step - loss: 0.1769 - accuracy: 0.9434\n",
            "Epoch 17/150\n",
            "6/6 [==============================] - 0s 3ms/step - loss: 0.1672 - accuracy: 0.9473\n",
            "Epoch 18/150\n",
            "6/6 [==============================] - 0s 4ms/step - loss: 0.1580 - accuracy: 0.9512\n",
            "Epoch 19/150\n",
            "6/6 [==============================] - 0s 3ms/step - loss: 0.1500 - accuracy: 0.9531\n",
            "Epoch 20/150\n",
            "6/6 [==============================] - 0s 3ms/step - loss: 0.1427 - accuracy: 0.9551\n",
            "Epoch 21/150\n",
            "6/6 [==============================] - 0s 3ms/step - loss: 0.1366 - accuracy: 0.9570\n",
            "Epoch 22/150\n",
            "6/6 [==============================] - 0s 4ms/step - loss: 0.1310 - accuracy: 0.9648\n",
            "Epoch 23/150\n",
            "6/6 [==============================] - 0s 3ms/step - loss: 0.1258 - accuracy: 0.9648\n",
            "Epoch 24/150\n",
            "6/6 [==============================] - 0s 4ms/step - loss: 0.1208 - accuracy: 0.9668\n",
            "Epoch 25/150\n",
            "6/6 [==============================] - 0s 3ms/step - loss: 0.1159 - accuracy: 0.9688\n",
            "Epoch 26/150\n",
            "6/6 [==============================] - 0s 4ms/step - loss: 0.1116 - accuracy: 0.9688\n",
            "Epoch 27/150\n",
            "6/6 [==============================] - 0s 4ms/step - loss: 0.1077 - accuracy: 0.9707\n",
            "Epoch 28/150\n",
            "6/6 [==============================] - 0s 3ms/step - loss: 0.1042 - accuracy: 0.9727\n",
            "Epoch 29/150\n",
            "6/6 [==============================] - 0s 3ms/step - loss: 0.1007 - accuracy: 0.9766\n",
            "Epoch 30/150\n",
            "6/6 [==============================] - 0s 4ms/step - loss: 0.0979 - accuracy: 0.9785\n",
            "Epoch 31/150\n",
            "6/6 [==============================] - 0s 4ms/step - loss: 0.0951 - accuracy: 0.9785\n",
            "Epoch 32/150\n",
            "6/6 [==============================] - 0s 3ms/step - loss: 0.0930 - accuracy: 0.9785\n",
            "Epoch 33/150\n",
            "6/6 [==============================] - 0s 5ms/step - loss: 0.0907 - accuracy: 0.9785\n",
            "Epoch 34/150\n",
            "6/6 [==============================] - 0s 3ms/step - loss: 0.0887 - accuracy: 0.9785\n",
            "Epoch 35/150\n",
            "6/6 [==============================] - 0s 3ms/step - loss: 0.0870 - accuracy: 0.9824\n",
            "Epoch 36/150\n",
            "6/6 [==============================] - 0s 4ms/step - loss: 0.0852 - accuracy: 0.9824\n",
            "Epoch 37/150\n",
            "6/6 [==============================] - 0s 4ms/step - loss: 0.0834 - accuracy: 0.9824\n",
            "Epoch 38/150\n",
            "6/6 [==============================] - 0s 3ms/step - loss: 0.0819 - accuracy: 0.9844\n",
            "Epoch 39/150\n",
            "6/6 [==============================] - 0s 6ms/step - loss: 0.0805 - accuracy: 0.9844\n",
            "Epoch 40/150\n",
            "6/6 [==============================] - 0s 4ms/step - loss: 0.0792 - accuracy: 0.9824\n",
            "Epoch 41/150\n",
            "6/6 [==============================] - 0s 4ms/step - loss: 0.0772 - accuracy: 0.9824\n",
            "Epoch 42/150\n",
            "6/6 [==============================] - 0s 3ms/step - loss: 0.0758 - accuracy: 0.9844\n",
            "Epoch 43/150\n",
            "6/6 [==============================] - 0s 4ms/step - loss: 0.0757 - accuracy: 0.9824\n",
            "Epoch 44/150\n",
            "6/6 [==============================] - 0s 3ms/step - loss: 0.0744 - accuracy: 0.9805\n",
            "Epoch 45/150\n",
            "6/6 [==============================] - 0s 3ms/step - loss: 0.0728 - accuracy: 0.9805\n",
            "Epoch 46/150\n",
            "6/6 [==============================] - 0s 3ms/step - loss: 0.0714 - accuracy: 0.9824\n",
            "Epoch 47/150\n",
            "6/6 [==============================] - 0s 5ms/step - loss: 0.0697 - accuracy: 0.9883\n",
            "Epoch 48/150\n",
            "6/6 [==============================] - 0s 4ms/step - loss: 0.0684 - accuracy: 0.9883\n",
            "Epoch 49/150\n",
            "6/6 [==============================] - 0s 4ms/step - loss: 0.0673 - accuracy: 0.9883\n",
            "Epoch 50/150\n",
            "6/6 [==============================] - 0s 4ms/step - loss: 0.0661 - accuracy: 0.9883\n",
            "Epoch 51/150\n",
            "6/6 [==============================] - 0s 4ms/step - loss: 0.0650 - accuracy: 0.9883\n",
            "Epoch 52/150\n",
            "6/6 [==============================] - 0s 4ms/step - loss: 0.0640 - accuracy: 0.9883\n",
            "Epoch 53/150\n",
            "6/6 [==============================] - 0s 5ms/step - loss: 0.0631 - accuracy: 0.9883\n",
            "Epoch 54/150\n",
            "6/6 [==============================] - 0s 6ms/step - loss: 0.0624 - accuracy: 0.9883\n",
            "Epoch 55/150\n",
            "6/6 [==============================] - 0s 5ms/step - loss: 0.0616 - accuracy: 0.9883\n",
            "Epoch 56/150\n",
            "6/6 [==============================] - 0s 5ms/step - loss: 0.0608 - accuracy: 0.9883\n",
            "Epoch 57/150\n",
            "6/6 [==============================] - 0s 5ms/step - loss: 0.0600 - accuracy: 0.9883\n",
            "Epoch 58/150\n",
            "6/6 [==============================] - 0s 4ms/step - loss: 0.0592 - accuracy: 0.9883\n",
            "Epoch 59/150\n",
            "6/6 [==============================] - 0s 4ms/step - loss: 0.0586 - accuracy: 0.9883\n",
            "Epoch 60/150\n",
            "6/6 [==============================] - 0s 5ms/step - loss: 0.0578 - accuracy: 0.9883\n",
            "Epoch 61/150\n",
            "6/6 [==============================] - 0s 5ms/step - loss: 0.0569 - accuracy: 0.9883\n",
            "Epoch 62/150\n",
            "6/6 [==============================] - 0s 4ms/step - loss: 0.0561 - accuracy: 0.9883\n",
            "Epoch 63/150\n",
            "6/6 [==============================] - 0s 6ms/step - loss: 0.0555 - accuracy: 0.9883\n",
            "Epoch 64/150\n",
            "6/6 [==============================] - 0s 5ms/step - loss: 0.0548 - accuracy: 0.9883\n",
            "Epoch 65/150\n",
            "6/6 [==============================] - 0s 4ms/step - loss: 0.0542 - accuracy: 0.9863\n",
            "Epoch 66/150\n",
            "6/6 [==============================] - 0s 4ms/step - loss: 0.0531 - accuracy: 0.9863\n",
            "Epoch 67/150\n",
            "6/6 [==============================] - 0s 6ms/step - loss: 0.0526 - accuracy: 0.9883\n",
            "Epoch 68/150\n",
            "6/6 [==============================] - 0s 5ms/step - loss: 0.0520 - accuracy: 0.9863\n",
            "Epoch 69/150\n",
            "6/6 [==============================] - 0s 7ms/step - loss: 0.0513 - accuracy: 0.9863\n",
            "Epoch 70/150\n",
            "6/6 [==============================] - 0s 5ms/step - loss: 0.0506 - accuracy: 0.9883\n",
            "Epoch 71/150\n",
            "6/6 [==============================] - 0s 4ms/step - loss: 0.0502 - accuracy: 0.9902\n",
            "Epoch 72/150\n",
            "6/6 [==============================] - 0s 4ms/step - loss: 0.0497 - accuracy: 0.9902\n",
            "Epoch 73/150\n",
            "6/6 [==============================] - 0s 4ms/step - loss: 0.0493 - accuracy: 0.9902\n",
            "Epoch 74/150\n",
            "6/6 [==============================] - 0s 5ms/step - loss: 0.0489 - accuracy: 0.9883\n",
            "Epoch 75/150\n",
            "6/6 [==============================] - 0s 4ms/step - loss: 0.0481 - accuracy: 0.9863\n",
            "Epoch 76/150\n",
            "6/6 [==============================] - 0s 4ms/step - loss: 0.0483 - accuracy: 0.9863\n",
            "Epoch 77/150\n",
            "6/6 [==============================] - 0s 5ms/step - loss: 0.0478 - accuracy: 0.9863\n",
            "Epoch 78/150\n",
            "6/6 [==============================] - 0s 5ms/step - loss: 0.0470 - accuracy: 0.9883\n",
            "Epoch 79/150\n",
            "6/6 [==============================] - 0s 4ms/step - loss: 0.0463 - accuracy: 0.9883\n",
            "Epoch 80/150\n",
            "6/6 [==============================] - 0s 4ms/step - loss: 0.0457 - accuracy: 0.9883\n",
            "Epoch 81/150\n",
            "6/6 [==============================] - 0s 5ms/step - loss: 0.0452 - accuracy: 0.9883\n",
            "Epoch 82/150\n",
            "6/6 [==============================] - 0s 5ms/step - loss: 0.0447 - accuracy: 0.9883\n",
            "Epoch 83/150\n",
            "6/6 [==============================] - 0s 4ms/step - loss: 0.0444 - accuracy: 0.9902\n",
            "Epoch 84/150\n",
            "6/6 [==============================] - 0s 4ms/step - loss: 0.0440 - accuracy: 0.9902\n",
            "Epoch 85/150\n",
            "6/6 [==============================] - 0s 4ms/step - loss: 0.0434 - accuracy: 0.9902\n",
            "Epoch 86/150\n",
            "6/6 [==============================] - 0s 4ms/step - loss: 0.0432 - accuracy: 0.9883\n",
            "Epoch 87/150\n",
            "6/6 [==============================] - 0s 4ms/step - loss: 0.0429 - accuracy: 0.9902\n",
            "Epoch 88/150\n",
            "6/6 [==============================] - 0s 4ms/step - loss: 0.0425 - accuracy: 0.9902\n",
            "Epoch 89/150\n",
            "6/6 [==============================] - 0s 4ms/step - loss: 0.0420 - accuracy: 0.9902\n",
            "Epoch 90/150\n",
            "6/6 [==============================] - 0s 5ms/step - loss: 0.0414 - accuracy: 0.9902\n",
            "Epoch 91/150\n",
            "6/6 [==============================] - 0s 5ms/step - loss: 0.0409 - accuracy: 0.9922\n",
            "Epoch 92/150\n",
            "6/6 [==============================] - 0s 4ms/step - loss: 0.0404 - accuracy: 0.9922\n",
            "Epoch 93/150\n",
            "6/6 [==============================] - 0s 5ms/step - loss: 0.0401 - accuracy: 0.9922\n",
            "Epoch 94/150\n",
            "6/6 [==============================] - 0s 4ms/step - loss: 0.0396 - accuracy: 0.9922\n",
            "Epoch 95/150\n",
            "6/6 [==============================] - 0s 4ms/step - loss: 0.0392 - accuracy: 0.9922\n",
            "Epoch 96/150\n",
            "6/6 [==============================] - 0s 4ms/step - loss: 0.0389 - accuracy: 0.9922\n",
            "Epoch 97/150\n",
            "6/6 [==============================] - 0s 4ms/step - loss: 0.0388 - accuracy: 0.9902\n",
            "Epoch 98/150\n",
            "6/6 [==============================] - 0s 4ms/step - loss: 0.0383 - accuracy: 0.9902\n",
            "Epoch 99/150\n",
            "6/6 [==============================] - 0s 4ms/step - loss: 0.0379 - accuracy: 0.9902\n",
            "Epoch 100/150\n",
            "6/6 [==============================] - 0s 6ms/step - loss: 0.0375 - accuracy: 0.9902\n",
            "Epoch 101/150\n",
            "6/6 [==============================] - 0s 7ms/step - loss: 0.0371 - accuracy: 0.9902\n",
            "Epoch 102/150\n",
            "6/6 [==============================] - 0s 5ms/step - loss: 0.0368 - accuracy: 0.9922\n",
            "Epoch 103/150\n",
            "6/6 [==============================] - 0s 6ms/step - loss: 0.0364 - accuracy: 0.9922\n",
            "Epoch 104/150\n",
            "6/6 [==============================] - 0s 7ms/step - loss: 0.0360 - accuracy: 0.9922\n",
            "Epoch 105/150\n",
            "6/6 [==============================] - 0s 4ms/step - loss: 0.0355 - accuracy: 0.9922\n",
            "Epoch 106/150\n",
            "6/6 [==============================] - 0s 5ms/step - loss: 0.0355 - accuracy: 0.9922\n",
            "Epoch 107/150\n",
            "6/6 [==============================] - 0s 5ms/step - loss: 0.0356 - accuracy: 0.9922\n",
            "Epoch 108/150\n",
            "6/6 [==============================] - 0s 5ms/step - loss: 0.0355 - accuracy: 0.9922\n",
            "Epoch 109/150\n",
            "6/6 [==============================] - 0s 4ms/step - loss: 0.0350 - accuracy: 0.9922\n",
            "Epoch 110/150\n",
            "6/6 [==============================] - 0s 4ms/step - loss: 0.0343 - accuracy: 0.9922\n",
            "Epoch 111/150\n",
            "6/6 [==============================] - 0s 4ms/step - loss: 0.0340 - accuracy: 0.9922\n",
            "Epoch 112/150\n",
            "6/6 [==============================] - 0s 4ms/step - loss: 0.0335 - accuracy: 0.9922\n",
            "Epoch 113/150\n",
            "6/6 [==============================] - 0s 5ms/step - loss: 0.0332 - accuracy: 0.9922\n",
            "Epoch 114/150\n",
            "6/6 [==============================] - 0s 5ms/step - loss: 0.0328 - accuracy: 0.9922\n",
            "Epoch 115/150\n",
            "6/6 [==============================] - 0s 5ms/step - loss: 0.0325 - accuracy: 0.9922\n",
            "Epoch 116/150\n",
            "6/6 [==============================] - 0s 6ms/step - loss: 0.0321 - accuracy: 0.9922\n",
            "Epoch 117/150\n",
            "6/6 [==============================] - 0s 5ms/step - loss: 0.0318 - accuracy: 0.9922\n",
            "Epoch 118/150\n",
            "6/6 [==============================] - 0s 5ms/step - loss: 0.0316 - accuracy: 0.9922\n",
            "Epoch 119/150\n",
            "6/6 [==============================] - 0s 4ms/step - loss: 0.0312 - accuracy: 0.9922\n",
            "Epoch 120/150\n",
            "6/6 [==============================] - 0s 4ms/step - loss: 0.0312 - accuracy: 0.9922\n",
            "Epoch 121/150\n",
            "6/6 [==============================] - 0s 4ms/step - loss: 0.0307 - accuracy: 0.9922\n",
            "Epoch 122/150\n",
            "6/6 [==============================] - 0s 4ms/step - loss: 0.0304 - accuracy: 0.9922\n",
            "Epoch 123/150\n",
            "6/6 [==============================] - 0s 4ms/step - loss: 0.0302 - accuracy: 0.9922\n",
            "Epoch 124/150\n",
            "6/6 [==============================] - 0s 4ms/step - loss: 0.0300 - accuracy: 0.9922\n",
            "Epoch 125/150\n",
            "6/6 [==============================] - 0s 4ms/step - loss: 0.0296 - accuracy: 0.9922\n",
            "Epoch 126/150\n",
            "6/6 [==============================] - 0s 4ms/step - loss: 0.0292 - accuracy: 0.9922\n",
            "Epoch 127/150\n",
            "6/6 [==============================] - 0s 4ms/step - loss: 0.0288 - accuracy: 0.9922\n",
            "Epoch 128/150\n",
            "6/6 [==============================] - 0s 4ms/step - loss: 0.0287 - accuracy: 0.9922\n",
            "Epoch 129/150\n",
            "6/6 [==============================] - 0s 4ms/step - loss: 0.0283 - accuracy: 0.9922\n",
            "Epoch 130/150\n",
            "6/6 [==============================] - 0s 3ms/step - loss: 0.0280 - accuracy: 0.9922\n",
            "Epoch 131/150\n",
            "6/6 [==============================] - 0s 3ms/step - loss: 0.0280 - accuracy: 0.9922\n",
            "Epoch 132/150\n",
            "6/6 [==============================] - 0s 3ms/step - loss: 0.0275 - accuracy: 0.9922\n",
            "Epoch 133/150\n",
            "6/6 [==============================] - 0s 5ms/step - loss: 0.0272 - accuracy: 0.9922\n",
            "Epoch 134/150\n",
            "6/6 [==============================] - 0s 4ms/step - loss: 0.0271 - accuracy: 0.9922\n",
            "Epoch 135/150\n",
            "6/6 [==============================] - 0s 3ms/step - loss: 0.0268 - accuracy: 0.9922\n",
            "Epoch 136/150\n",
            "6/6 [==============================] - 0s 3ms/step - loss: 0.0265 - accuracy: 0.9922\n",
            "Epoch 137/150\n",
            "6/6 [==============================] - 0s 3ms/step - loss: 0.0261 - accuracy: 0.9922\n",
            "Epoch 138/150\n",
            "6/6 [==============================] - 0s 3ms/step - loss: 0.0259 - accuracy: 0.9922\n",
            "Epoch 139/150\n",
            "6/6 [==============================] - 0s 3ms/step - loss: 0.0257 - accuracy: 0.9922\n",
            "Epoch 140/150\n",
            "6/6 [==============================] - 0s 3ms/step - loss: 0.0254 - accuracy: 0.9922\n",
            "Epoch 141/150\n",
            "6/6 [==============================] - 0s 3ms/step - loss: 0.0251 - accuracy: 0.9922\n",
            "Epoch 142/150\n",
            "6/6 [==============================] - 0s 3ms/step - loss: 0.0250 - accuracy: 0.9922\n",
            "Epoch 143/150\n",
            "6/6 [==============================] - 0s 3ms/step - loss: 0.0246 - accuracy: 0.9922\n",
            "Epoch 144/150\n",
            "6/6 [==============================] - 0s 3ms/step - loss: 0.0244 - accuracy: 0.9922\n",
            "Epoch 145/150\n",
            "6/6 [==============================] - 0s 3ms/step - loss: 0.0241 - accuracy: 0.9922\n",
            "Epoch 146/150\n",
            "6/6 [==============================] - 0s 3ms/step - loss: 0.0238 - accuracy: 0.9941\n",
            "Epoch 147/150\n",
            "6/6 [==============================] - 0s 3ms/step - loss: 0.0237 - accuracy: 0.9922\n",
            "Epoch 148/150\n",
            "6/6 [==============================] - 0s 3ms/step - loss: 0.0234 - accuracy: 0.9922\n",
            "Epoch 149/150\n",
            "6/6 [==============================] - 0s 4ms/step - loss: 0.0232 - accuracy: 0.9922\n",
            "Epoch 150/150\n",
            "6/6 [==============================] - 0s 4ms/step - loss: 0.0230 - accuracy: 0.9941\n"
          ]
        },
        {
          "output_type": "execute_result",
          "data": {
            "text/plain": [
              "<keras.callbacks.History at 0x7f5ddcbb7fd0>"
            ]
          },
          "metadata": {},
          "execution_count": 33
        }
      ]
    },
    {
      "cell_type": "code",
      "source": [
        "y_pred=classifier.predict(x_test)\n",
        "y_pred=(y_pred>0.5)"
      ],
      "metadata": {
        "colab": {
          "base_uri": "https://localhost:8080/"
        },
        "id": "0_7iLMnriavS",
        "outputId": "8d0627e9-f0ac-4f32-a19d-41a562380013"
      },
      "execution_count": 34,
      "outputs": [
        {
          "output_type": "stream",
          "name": "stdout",
          "text": [
            "2/2 [==============================] - 0s 6ms/step\n"
          ]
        }
      ]
    },
    {
      "cell_type": "code",
      "source": [
        "from sklearn.metrics import confusion_matrix\n",
        "cm=confusion_matrix(y_test,y_pred)"
      ],
      "metadata": {
        "id": "WOnooz0Timlz"
      },
      "execution_count": 39,
      "outputs": []
    },
    {
      "cell_type": "code",
      "source": [
        "sns.heatmap(cm,annot=True)\n",
        "plt.savefig('h.png')"
      ],
      "metadata": {
        "colab": {
          "base_uri": "https://localhost:8080/",
          "height": 435
        },
        "id": "15hhrdxmiuhJ",
        "outputId": "5d811e80-fdaf-47b6-d8cf-0e07d5e1923d"
      },
      "execution_count": 41,
      "outputs": [
        {
          "output_type": "display_data",
          "data": {
            "text/plain": [
              "<Figure size 640x480 with 2 Axes>"
            ],
            "image/png": "[encoded data removed]"
          },
          "metadata": {}
        }
      ]
    },
    {
      "cell_type": "code",
      "source": [],
      "metadata": {
        "id": "H2-o58EvjOyV"
      },
      "execution_count": null,
      "outputs": []
    }
  ]
}